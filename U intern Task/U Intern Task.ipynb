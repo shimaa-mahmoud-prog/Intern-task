{
 "cells": [
  {
   "cell_type": "markdown",
   "metadata": {},
   "source": [
    "# Part 1 ( Python ):\n"
   ]
  },
  {
   "cell_type": "markdown",
   "metadata": {},
   "source": [
    "### Q1: \n",
    "    Write a program that computes the value of a+aa+aaa+aaaa with a given digit as the value of a. Suppose the following input is supplied to the program: 9 Then, the output should be: 11106"
   ]
  },
  {
   "cell_type": "code",
   "execution_count": 1,
   "metadata": {},
   "outputs": [
    {
     "name": "stdout",
     "output_type": "stream",
     "text": [
      "enter a digit 9\n",
      "11106\n"
     ]
    }
   ],
   "source": [
    "x=input('enter a digit ')\n",
    "print(int(x)+int(x*2)+int(x*3)+int(x*4))"
   ]
  },
  {
   "cell_type": "code",
   "execution_count": 4,
   "metadata": {},
   "outputs": [
    {
     "name": "stdout",
     "output_type": "stream",
     "text": [
      "enter a digit 9\n",
      "11106\n"
     ]
    }
   ],
   "source": [
    "x=input('enter a digit ')\n",
    "i=1\n",
    "a=0\n",
    "while i<5:\n",
    "    a=a+int(x*i)\n",
    "    i=i+1\n",
    "print(a)    \n"
   ]
  },
  {
   "cell_type": "markdown",
   "metadata": {},
   "source": [
    "### Q2:\n",
    "    Please write a program to print the running time of execution of \"1+1\" for 100 times.\n"
   ]
  },
  {
   "cell_type": "code",
   "execution_count": 10,
   "metadata": {},
   "outputs": [
    {
     "name": "stdout",
     "output_type": "stream",
     "text": [
      "2.2543673999998646\n"
     ]
    }
   ],
   "source": [
    "from timeit import Timer\n",
    "x=Timer(\"for i in range(100):1+1\")\n",
    "print(x.timeit())\n",
    "\n"
   ]
  },
  {
   "cell_type": "markdown",
   "metadata": {},
   "source": [
    "### Q3:\n",
    "    You are required to write a program to sort the (name, age, height) tuples by ascending order where name is string, age and height are numbers. The tuples are input by console. The sort criteria is: 1: Sort based on name; 2: Then sort based on age; 3: Then sort by score. The priority is that name > age > score. If the following tuples are given as input to the program: Tom,19,80 John,20,90 Jony,17,91 Jony,17,93 Json,21,85 Then, the output of the program should be: [('John', '20', '90'), ('Jony', '17', '91'), ('Jony', '17', '93'), ('Json', '21', '85'), ('Tom', '19', '80')]"
   ]
  },
  {
   "cell_type": "code",
   "execution_count": 160,
   "metadata": {},
   "outputs": [
    {
     "name": "stdout",
     "output_type": "stream",
     "text": [
      "Tom,19,80 \n",
      "John,20,90 \n",
      "Jony,17,91 \n",
      "Jony,17,93 \n",
      "Json,21,85\n",
      "\n",
      "[('John', '20', '90 '), ('Jony', '17', '91 '), ('Jony', '17', '93 '), ('Json', '21', '85'), ('Tom', '19', '80 ')]\n"
     ]
    }
   ],
   "source": [
    "from operator import itemgetter\n",
    "\n",
    "people_info = []\n",
    "while True:\n",
    "    individual_info = input()\n",
    "\n",
    "    if individual_info == \"\":\n",
    "        break\n",
    "    else:\n",
    "        people_info.append(tuple((individual_info.split(\",\"))))\n",
    "\n",
    "people_info.sort(key =  itemgetter(0, 1, 2))       \n",
    "print(people_info)"
   ]
  },
  {
   "cell_type": "markdown",
   "metadata": {},
   "source": [
    "### Q4:\n",
    "    Write a Python program to count the number of characters (character frequency) in a string.\n",
    "\n",
    "Examble: ('google.com') => {'g': 2, 'o': 3, 'l': 1, 'e': 1, '.': 1, 'c': 1, 'm': 1}"
   ]
  },
  {
   "cell_type": "code",
   "execution_count": 3,
   "metadata": {},
   "outputs": [
    {
     "name": "stdout",
     "output_type": "stream",
     "text": [
      "shimaa mahmoud\n",
      "{'s': 1, 'h': 2, 'i': 1, 'm': 3, 'a': 3, ' ': 1, 'o': 1, 'u': 1, 'd': 1}\n"
     ]
    }
   ],
   "source": [
    "s =input()\n",
    "\n",
    "fdic = {} \n",
    "  \n",
    "for i in s: \n",
    "    if i in fdic: \n",
    "        fdic[i] += 1\n",
    "    else: \n",
    "        fdic[i] = 1\n",
    "        \n",
    "            \n",
    "print(fdic)       "
   ]
  },
  {
   "cell_type": "markdown",
   "metadata": {},
   "source": [
    "\n",
    "### Q5:\n",
    "    Write a Python program to add 'ing' at the end of a given string (length should be at least 3). If the given string already ends with 'ing' then add 'ly' instead. If the string length of the given string is less than 3, leave it unchanged.\n",
    "Examble \n",
    "\n",
    "        => ab => ab\n",
    "\n",
    "        => abc => abcing \n",
    "        \n",
    "        => string => stringly"
   ]
  },
  {
   "cell_type": "code",
   "execution_count": 7,
   "metadata": {},
   "outputs": [
    {
     "name": "stdout",
     "output_type": "stream",
     "text": [
      "asd\n",
      "asding\n"
     ]
    }
   ],
   "source": [
    "s=input()\n",
    "if(len(s)>2):\n",
    "    if(s.endswith(\"ing\")):\n",
    "        print(s+\"ly\")\n",
    "    else:\n",
    "        print(s+\"ing\")\n",
    "else:\n",
    "    print(s)"
   ]
  },
  {
   "cell_type": "markdown",
   "metadata": {},
   "source": [
    "### Q6:\n",
    "    Write a Python program to add 5 seconds with the current time.\n",
    "\n",
    "Examble: Current time=> 13:09:38.491219 After 5 seconds => 13:09:43.491219"
   ]
  },
  {
   "cell_type": "code",
   "execution_count": 37,
   "metadata": {},
   "outputs": [
    {
     "name": "stdout",
     "output_type": "stream",
     "text": [
      "Current time=> 08:40:59.855489 After 5 seconds=> 08:41:04.855489\n"
     ]
    }
   ],
   "source": [
    "import datetime\n",
    "current_time = datetime.datetime.now()\n",
    "After5=current_time + datetime.timedelta(seconds=5) #day,sec,micsec,millisec,minu,hour\n",
    "print(\"Current time=>\",current_time.time(),\"After 5 seconds=>\",After5.time())\n"
   ]
  },
  {
   "cell_type": "markdown",
   "metadata": {},
   "source": [
    "### Q7:\n",
    "\n",
    "Please solve this problem and write your code here?\n",
    "\n",
    "https://www.hackerrank.com/challenges/np-polynomials/problem"
   ]
  },
  {
   "cell_type": "code",
   "execution_count": 54,
   "metadata": {},
   "outputs": [
    {
     "name": "stdout",
     "output_type": "stream",
     "text": [
      "12 1 1\n",
      "1\n",
      "14.0\n"
     ]
    }
   ],
   "source": [
    "import numpy as np\n",
    "\n",
    "coefts=list(map(float,input().split()))\n",
    "x=float(input())\n",
    "\n",
    "print(np.polyval(coefts,x))"
   ]
  },
  {
   "cell_type": "markdown",
   "metadata": {},
   "source": [
    "### Q8:\n",
    "\n",
    "Please solve this problem and write your code here?\n",
    "\n",
    "https://www.hackerrank.com/challenges/np-linear-algebra/problem"
   ]
  },
  {
   "cell_type": "code",
   "execution_count": 9,
   "metadata": {},
   "outputs": [
    {
     "name": "stdout",
     "output_type": "stream",
     "text": [
      "2\n",
      "1.1 1.1\n",
      "1.1 1.1\n",
      "[[1.1 1.1]\n",
      " [1.1 1.1]]\n",
      "[[1.1, 1.1], [1.1, 1.1]]\n",
      "0.0\n"
     ]
    }
   ],
   "source": [
    "import numpy\n",
    "\n",
    "x=input()\n",
    "n=int(x)\n",
    "m=[]\n",
    "for i in range(n):\n",
    "    s= input()\n",
    "    l=list(map(float,s.split()))\n",
    "    m.append(l)\n",
    "\n",
    "print(numpy.array(m))\n",
    "print(m)\n",
    "print(numpy.linalg.det(m)) "
   ]
  },
  {
   "cell_type": "markdown",
   "metadata": {},
   "source": [
    "# Part2 (GUI):\n",
    "    Please create simple calculator like this image ( with the same colors and architecture ) "
   ]
  },
  {
   "cell_type": "markdown",
   "metadata": {},
   "source": [
    "![caption](files/image.jpg)"
   ]
  },
  {
   "cell_type": "code",
   "execution_count": 307,
   "metadata": {},
   "outputs": [
    {
     "ename": "TclError",
     "evalue": "unknown option \"-pd\"",
     "output_type": "error",
     "traceback": [
      "\u001b[1;31m---------------------------------------------------------------------------\u001b[0m",
      "\u001b[1;31mTclError\u001b[0m                                  Traceback (most recent call last)",
      "\u001b[1;32m<ipython-input-307-965dd20e3566>\u001b[0m in \u001b[0;36m<module>\u001b[1;34m\u001b[0m\n\u001b[0;32m     31\u001b[0m \u001b[0mtext_input\u001b[0m\u001b[1;33m=\u001b[0m\u001b[0mStringVar\u001b[0m\u001b[1;33m(\u001b[0m\u001b[1;33m)\u001b[0m\u001b[1;33m\u001b[0m\u001b[1;33m\u001b[0m\u001b[0m\n\u001b[0;32m     32\u001b[0m \u001b[1;33m\u001b[0m\u001b[0m\n\u001b[1;32m---> 33\u001b[1;33m \u001b[0mtxttDisplay\u001b[0m\u001b[1;33m=\u001b[0m\u001b[0mEntry\u001b[0m\u001b[1;33m(\u001b[0m\u001b[0mwindow\u001b[0m\u001b[1;33m,\u001b[0m\u001b[0mfont\u001b[0m\u001b[1;33m=\u001b[0m\u001b[1;33m(\u001b[0m\u001b[1;34m'arial'\u001b[0m\u001b[1;33m,\u001b[0m\u001b[1;36m20\u001b[0m\u001b[1;33m,\u001b[0m\u001b[1;34m'bold'\u001b[0m\u001b[1;33m)\u001b[0m\u001b[1;33m,\u001b[0m\u001b[0mpd\u001b[0m\u001b[1;33m=\u001b[0m\u001b[1;36m20\u001b[0m\u001b[1;33m,\u001b[0m\u001b[0mtextvar\u001b[0m\u001b[1;33m=\u001b[0m\u001b[0mtext_input\u001b[0m\u001b[1;33m,\u001b[0m\u001b[0minsertwidth\u001b[0m\u001b[1;33m=\u001b[0m\u001b[1;36m4\u001b[0m\u001b[1;33m,\u001b[0m\u001b[0mfg\u001b[0m\u001b[1;33m=\u001b[0m\u001b[1;34m\"white\"\u001b[0m\u001b[1;33m,\u001b[0m\u001b[0mbg\u001b[0m\u001b[1;33m=\u001b[0m\u001b[1;34m\"#088A08\"\u001b[0m\u001b[1;33m,\u001b[0m\u001b[0mjustify\u001b[0m\u001b[1;33m=\u001b[0m\u001b[1;34m'right'\u001b[0m\u001b[1;33m)\u001b[0m\u001b[1;33m.\u001b[0m\u001b[0mgrid\u001b[0m\u001b[1;33m(\u001b[0m\u001b[0mcolumnspan\u001b[0m\u001b[1;33m=\u001b[0m\u001b[1;36m4\u001b[0m\u001b[1;33m)\u001b[0m\u001b[1;33m\u001b[0m\u001b[1;33m\u001b[0m\u001b[0m\n\u001b[0m\u001b[0;32m     34\u001b[0m \u001b[1;33m\u001b[0m\u001b[0m\n\u001b[0;32m     35\u001b[0m \u001b[0mbutton7\u001b[0m \u001b[1;33m=\u001b[0m \u001b[0mButton\u001b[0m\u001b[1;33m(\u001b[0m\u001b[0mwindow\u001b[0m\u001b[1;33m,\u001b[0m\u001b[0mpadx\u001b[0m\u001b[1;33m=\u001b[0m\u001b[1;36m16\u001b[0m\u001b[1;33m,\u001b[0m\u001b[0mpady\u001b[0m\u001b[1;33m=\u001b[0m\u001b[1;36m8\u001b[0m\u001b[1;33m,\u001b[0m\u001b[0mfg\u001b[0m\u001b[1;33m=\u001b[0m\u001b[1;34m'black'\u001b[0m\u001b[1;33m,\u001b[0m\u001b[0mfont\u001b[0m\u001b[1;33m=\u001b[0m\u001b[1;33m(\u001b[0m\u001b[1;34m'arial'\u001b[0m\u001b[1;33m,\u001b[0m\u001b[1;36m20\u001b[0m\u001b[1;33m,\u001b[0m\u001b[1;34m'bold'\u001b[0m\u001b[1;33m)\u001b[0m\u001b[1;33m,\u001b[0m\u001b[0mtext\u001b[0m\u001b[1;33m=\u001b[0m\u001b[1;34m\"7\"\u001b[0m\u001b[1;33m,\u001b[0m\u001b[0mcommand\u001b[0m\u001b[1;33m=\u001b[0m\u001b[1;32mlambda\u001b[0m\u001b[1;33m:\u001b[0m\u001b[0mbtnClick\u001b[0m\u001b[1;33m(\u001b[0m\u001b[1;36m7\u001b[0m\u001b[1;33m)\u001b[0m\u001b[1;33m)\u001b[0m\u001b[1;33m.\u001b[0m\u001b[0mgrid\u001b[0m\u001b[1;33m(\u001b[0m\u001b[0mrow\u001b[0m\u001b[1;33m=\u001b[0m\u001b[1;36m1\u001b[0m\u001b[1;33m,\u001b[0m\u001b[0mcolumn\u001b[0m\u001b[1;33m=\u001b[0m\u001b[1;36m0\u001b[0m\u001b[1;33m,\u001b[0m\u001b[0msticky\u001b[0m\u001b[1;33m=\u001b[0m\u001b[0mW\u001b[0m\u001b[1;33m)\u001b[0m\u001b[1;33m\u001b[0m\u001b[1;33m\u001b[0m\u001b[0m\n",
      "\u001b[1;32mE:\\anaconda\\lib\\tkinter\\__init__.py\u001b[0m in \u001b[0;36m__init__\u001b[1;34m(self, master, cnf, **kw)\u001b[0m\n\u001b[0;32m   2674\u001b[0m         \u001b[0mtextvariable\u001b[0m\u001b[1;33m,\u001b[0m \u001b[0mvalidate\u001b[0m\u001b[1;33m,\u001b[0m \u001b[0mvalidatecommand\u001b[0m\u001b[1;33m,\u001b[0m \u001b[0mvcmd\u001b[0m\u001b[1;33m,\u001b[0m \u001b[0mwidth\u001b[0m\u001b[1;33m,\u001b[0m\u001b[1;33m\u001b[0m\u001b[1;33m\u001b[0m\u001b[0m\n\u001b[0;32m   2675\u001b[0m         xscrollcommand.\"\"\"\n\u001b[1;32m-> 2676\u001b[1;33m         \u001b[0mWidget\u001b[0m\u001b[1;33m.\u001b[0m\u001b[0m__init__\u001b[0m\u001b[1;33m(\u001b[0m\u001b[0mself\u001b[0m\u001b[1;33m,\u001b[0m \u001b[0mmaster\u001b[0m\u001b[1;33m,\u001b[0m \u001b[1;34m'entry'\u001b[0m\u001b[1;33m,\u001b[0m \u001b[0mcnf\u001b[0m\u001b[1;33m,\u001b[0m \u001b[0mkw\u001b[0m\u001b[1;33m)\u001b[0m\u001b[1;33m\u001b[0m\u001b[1;33m\u001b[0m\u001b[0m\n\u001b[0m\u001b[0;32m   2677\u001b[0m     \u001b[1;32mdef\u001b[0m \u001b[0mdelete\u001b[0m\u001b[1;33m(\u001b[0m\u001b[0mself\u001b[0m\u001b[1;33m,\u001b[0m \u001b[0mfirst\u001b[0m\u001b[1;33m,\u001b[0m \u001b[0mlast\u001b[0m\u001b[1;33m=\u001b[0m\u001b[1;32mNone\u001b[0m\u001b[1;33m)\u001b[0m\u001b[1;33m:\u001b[0m\u001b[1;33m\u001b[0m\u001b[1;33m\u001b[0m\u001b[0m\n\u001b[0;32m   2678\u001b[0m         \u001b[1;34m\"\"\"Delete text from FIRST to LAST (not included).\"\"\"\u001b[0m\u001b[1;33m\u001b[0m\u001b[1;33m\u001b[0m\u001b[0m\n",
      "\u001b[1;32mE:\\anaconda\\lib\\tkinter\\__init__.py\u001b[0m in \u001b[0;36m__init__\u001b[1;34m(self, master, widgetName, cnf, kw, extra)\u001b[0m\n\u001b[0;32m   2297\u001b[0m             \u001b[1;32mdel\u001b[0m \u001b[0mcnf\u001b[0m\u001b[1;33m[\u001b[0m\u001b[0mk\u001b[0m\u001b[1;33m]\u001b[0m\u001b[1;33m\u001b[0m\u001b[1;33m\u001b[0m\u001b[0m\n\u001b[0;32m   2298\u001b[0m         self.tk.call(\n\u001b[1;32m-> 2299\u001b[1;33m             (widgetName, self._w) + extra + self._options(cnf))\n\u001b[0m\u001b[0;32m   2300\u001b[0m         \u001b[1;32mfor\u001b[0m \u001b[0mk\u001b[0m\u001b[1;33m,\u001b[0m \u001b[0mv\u001b[0m \u001b[1;32min\u001b[0m \u001b[0mclasses\u001b[0m\u001b[1;33m:\u001b[0m\u001b[1;33m\u001b[0m\u001b[1;33m\u001b[0m\u001b[0m\n\u001b[0;32m   2301\u001b[0m             \u001b[0mk\u001b[0m\u001b[1;33m.\u001b[0m\u001b[0mconfigure\u001b[0m\u001b[1;33m(\u001b[0m\u001b[0mself\u001b[0m\u001b[1;33m,\u001b[0m \u001b[0mv\u001b[0m\u001b[1;33m)\u001b[0m\u001b[1;33m\u001b[0m\u001b[1;33m\u001b[0m\u001b[0m\n",
      "\u001b[1;31mTclError\u001b[0m: unknown option \"-pd\""
     ]
    }
   ],
   "source": [
    "from tkinter  import*\n",
    "\n",
    "def btnClick(numbers):\n",
    "    global operator\n",
    "    operator=operator+str(numbers)\n",
    "    text_input.set(operator)\n",
    "\n",
    "\n",
    "def btnCleanDisPlay():\n",
    "    global operator\n",
    "    operator=\"\"\n",
    "    text_input.set(\"\")\n",
    "    \n",
    "    \n",
    "def btnEqualsInput():\n",
    "    global operator\n",
    "    sumup=str(eval(operator))\n",
    "    text_input.set(sumup)\n",
    "    operator=\"\"\n",
    "   \n",
    "    \n",
    "\n",
    "        \n",
    "window=Tk()\n",
    "\n",
    " \n",
    "\n",
    "window.title(\"calculator\")\n",
    "\n",
    "operator=\"\"\n",
    "text_input=StringVar()\n",
    "\n",
    "txttDisplay=Entry(window,font=('arial',20,'bold'),pd=20,textvar=text_input,insertwidth=4,fg=\"white\",bg=\"#088A08\",justify='right').grid(columnspan=4)\n",
    "\n",
    "button7 = Button(window,padx=16,pady=8,fg='black',font=('arial',20,'bold'),text=\"7\",command=lambda:btnClick(7)).grid(row=1,column=0,sticky=W)\n",
    "button8 = Button(window,padx=16,pady=8,fg='black',font=('arial',20,'bold'),text=\"8\",command=lambda:btnClick(8)).grid(row=1,column=1,sticky=W)\n",
    "button9 = Button(window,padx=16,pady=8,fg='black',font=('arial',20,'bold'),text=\"9\",command=lambda:btnClick(9)).grid(row=1,column=2,sticky=W)\n",
    "buttonC = Button(window,padx=16,pady=8,fg='black',font=('arial',20,'bold'),text=\"C\",bg=\"#088A08\",command=btnCleanDisPlay).grid(row=1,column=3,sticky=W)\n",
    "button4 = Button(window,padx=16,pady=8,fg='black',font=('arial',20,'bold'),text=\"4\",command=lambda:btnClick(4)).grid(row=2,column=0,sticky=W)\n",
    "button5 = Button(window,padx=16,pady=8,fg='black',font=('arial',20,'bold'),text=\"5\",command=lambda:btnClick(5)).grid(row=2,column=1,sticky=W)\n",
    "button6 = Button(window,padx=16,pady=8,fg='black',font=('arial',20,'bold'),text=\"6\",command=lambda:btnClick(6)).grid(row=2,column=2,sticky=W)\n",
    "button_plus = Button(window,padx=16,pady=8,fg='black',font=('arial',20,'bold'),text=\"+\",bg=\"#FFBF00\",command=lambda:btnClick(\"+\")).grid(row=2,column=3,sticky=W)\n",
    "button1 = Button(window,padx=16,pady=8,fg='black',font=('arial',20,'bold'),text=\"1\",command=lambda:btnClick(1)).grid(row=3,column=0,sticky=W)\n",
    "button2 = Button(window,padx=16,pady=8,fg='black',font=('arial',20,'bold'),text=\"2\",command=lambda:btnClick(2)).grid(row=3,column=1,sticky=W)\n",
    "button3 = Button(window,padx=16,pady=8,fg='black',font=('arial',20,'bold'),text=\"3\",command=lambda:btnClick(3)).grid(row=3,column=2,sticky=W)\n",
    "button_min = Button(window,padx=16,pady=8,fg='black',font=('arial',20,'bold'),text=\"-\",bg=\"#FFBF00\",command=lambda:btnClick(\"-\")).grid(row=3,column=3,sticky=W)\n",
    "button0 = Button(window,padx=16,pady=8,fg='black',font=('arial',20,'bold'),text=\"0\",command=lambda:btnClick(0)).grid(row=4,column=0,sticky=W)\n",
    "button_dot = Button(window,padx=16,pady=8,fg='black',font=('arial',20,'bold'),text=\".\",bg=\"#FFBF00\",command=lambda:btnClick(\".\")).grid(row=4,column=1,sticky=W)\n",
    "button_div = Button(window,padx=16,pady=8,fg='black',font=('arial',20,'bold'),text=\"/\",bg=\"#FFBF00\",command=lambda:btnClick(\"/\")).grid(row=4,column=2,sticky=W)\n",
    "buttonx = Button(window,padx=16,pady=8,fg='black',font=('arial',20,'bold'),text=\"X\",bg=\"#FFBF00\",command=lambda:btnClick(\"*\")).grid(row=4,column=3,sticky=W)\n",
    "button_eq = Button(window,padx=16,pady=8,fg='black',font=('arial',20,'bold'),text=\"=\",bg=\"green\",command=btnEqualsInput).grid(row=5,column=0,sticky=W)\n",
    "button_rg = Button(window,padx=16,pady=8,fg='black',font=('arial',20,'bold'),text=\"(\",bg=\"#FFBF00\",command=lambda:btnClick('(')).grid(row=5,column=1,sticky=N)\n",
    "button_le = Button(window,padx=16,pady=8,fg='black',font=('arial',20,'bold'),text=\")\",bg=\"#FFBF00\",command=lambda:btnClick(')')).grid(row=5,column=2,sticky=N)\n",
    "\n",
    "\n",
    "\n",
    "\n",
    "\n",
    "\n",
    "\n",
    "window.mainloop()\n"
   ]
  },
  {
   "cell_type": "code",
   "execution_count": 305,
   "metadata": {},
   "outputs": [],
   "source": [
    "from tkinter import*\n",
    "\n",
    "from tkinter import ttk\n",
    "\n",
    "def btnClick(numbers):\n",
    "    global operator\n",
    "    operator=operator+str(numbers)\n",
    "    text_input.set(operator)\n",
    "\n",
    "\n",
    "def btnCleanDisPlay():\n",
    "    global operator\n",
    "    operator=\"\"\n",
    "    text_input.set(\"\")\n",
    "    \n",
    "    \n",
    "def btnEqualsInput():\n",
    "    global operator\n",
    "    sumup=str(eval(operator))\n",
    "    text_input.set(sumup)\n",
    "    operator=\"\"\n",
    "   \n",
    "    \n",
    "\n",
    "        \n",
    "window=tkinter.Tk()\n",
    "\n",
    "window.geometry('340x320')\n",
    "\n",
    "window.title(\"calculator\")\n",
    "\n",
    "operator=\"\"\n",
    "text_input=StringVar()\n",
    "\n",
    "\n",
    "txttDisplay=Entry(window,font=('arial',19,'bold'),textvar=text_input,bd=25,insertwidth=5,fg=\"white\",bg=\"#088A08\",justify='right').grid(columnspan=4)\n",
    "\n",
    "btn_width=5\n",
    "btn_height=20\n",
    "f='arial  20 bold'\n",
    "\n",
    "style=ttk.Style()\n",
    "style.configure('TButton',font=f,bd=30,height=btn_height)\n",
    "style.configure('TButton1',font=f,bd=30,height=btn_height,background=\"#FFBF00\")\n",
    "\n",
    "frame=tkinter.Frame(window)\n",
    "frame.grid(row=1,column=0,columnspan=3)\n",
    "\n",
    "frame2=tkinter.Frame(window)\n",
    "frame2.grid(row=5,column=0,columnspan=2)\n",
    "\n",
    "\n",
    "button7 = ttk.Button(frame,text=\"7\",width=btn_width,command=lambda:btnClick(7)).grid(row=1,column=0)\n",
    "button8 = ttk.Button(frame,text=\"8\",width=btn_width,command=lambda:btnClick(8)).grid(row=1,column=1)\n",
    "button9 = ttk.Button(frame,text=\"9\",width=btn_width,command=lambda:btnClick(9)).grid(row=1,column=2)\n",
    "buttonC = Button(frame,text=\"C\",width=6,font=('arial',15,'bold'),bg=\"#FFBF00\",command=btnCleanDisPlay).grid(row=1,column=3)\n",
    "button4 = ttk.Button(frame,text=\"4\",width=btn_width,command=lambda:btnClick(4)).grid(row=2,column=0)\n",
    "button5 = ttk.Button(frame,text=\"5\",width=btn_width,command=lambda:btnClick(5)).grid(row=2,column=1)\n",
    "button6 = ttk.Button(frame,text=\"6\",width=btn_width,command=lambda:btnClick(6)).grid(row=2,column=2)\n",
    "button_plus = Button(frame,width=6,font=('arial',15,'bold'),text=\"+\",bg=\"#FFBF00\",command=lambda:btnClick(\"+\")).grid(row=2,column=3)\n",
    "button1 = ttk.Button(frame,text=\"1\",width=btn_width,command=lambda:btnClick(1)).grid(row=3,column=0)\n",
    "button2 = ttk.Button(frame,text=\"2\",width=btn_width,command=lambda:btnClick(2)).grid(row=3,column=1)\n",
    "button3 = ttk.Button(frame,text=\"3\",width=btn_width,command=lambda:btnClick(3)).grid(row=3,column=2)\n",
    "button_min =Button(frame,width=6,fg='black',font=('arial',15,'bold'),text=\"-\",bg=\"#FFBF00\",command=lambda:btnClick(\"-\")).grid(row=3,column=3)\n",
    "button0 = ttk.Button(frame,text=\"0\",width=btn_width,command=lambda:btnClick(0)).grid(row=4,column=0,sticky=W)\n",
    "button_dot = Button(frame,width=6,fg='black',font=('arial',15,'bold'),text=\".\",bg=\"#FFBF00\",command=lambda:btnClick(\".\")).grid(row=4,column=1)\n",
    "button_div = Button(frame,width=6,fg='black',font=('arial',15,'bold'),text=\"/\",bg=\"#FFBF00\",command=lambda:btnClick(\"/\")).grid(row=4,column=2)\n",
    "buttonx = Button(frame,width=6,fg='black',font=('arial',15,'bold'),text=\"X\",bg=\"#FFBF00\",command=lambda:btnClick(\"*\")).grid(row=4,column=3)\n",
    "button_eq = Button(frame2,width=10,fg='black',font=('arial',15,'bold'),text=\"=\",bg=\"green\",command=btnEqualsInput).grid(row=5,column=0,sticky=W)\n",
    "button_rg = Button(frame2,width=6,fg='black',font=('arial',15,'bold'),text=\"(\",bg=\"#FFBF00\",command=lambda:btnClick('(')).grid(row=5,column=1)\n",
    "button_le = Button(frame2,width=6,fg='black',font=('arial',15,'bold'),text=\")\",bg=\"#FFBF00\",command=lambda:btnClick(')')).grid(row=5,column=2)\n",
    "\n",
    "\n",
    "\n",
    "\n",
    "\n",
    "\n",
    "\n",
    "window.mainloop()\n"
   ]
  }
 ],
 "metadata": {
  "kernelspec": {
   "display_name": "Python 3",
   "language": "python",
   "name": "python3"
  },
  "language_info": {
   "codemirror_mode": {
    "name": "ipython",
    "version": 3
   },
   "file_extension": ".py",
   "mimetype": "text/x-python",
   "name": "python",
   "nbconvert_exporter": "python",
   "pygments_lexer": "ipython3",
   "version": "3.7.6"
  }
 },
 "nbformat": 4,
 "nbformat_minor": 4
}
